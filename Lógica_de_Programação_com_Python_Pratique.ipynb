{
  "nbformat": 4,
  "nbformat_minor": 0,
  "metadata": {
    "colab": {
      "provenance": []
    },
    "kernelspec": {
      "name": "python3",
      "display_name": "Python 3"
    },
    "language_info": {
      "name": "python"
    }
  },
  "cells": [
    {
      "cell_type": "code",
      "execution_count": 38,
      "metadata": {
        "colab": {
          "base_uri": "https://localhost:8080/"
        },
        "id": "E4j6ViMQy5mb",
        "outputId": "3562f934-b567-4629-9dff-098dc9baefb6"
      },
      "outputs": [
        {
          "output_type": "stream",
          "name": "stdout",
          "text": [
            "Para iniciar a calculadora, escolha o número da operação que deseja realizar:\n",
            "1 para Adição\n",
            "2 para Subtração\n",
            "3 para Multiplicação e \n",
            "4 para Divisão\n",
            "Qual operação deseja realizar? 10\n",
            "\n",
            "Este número não é válido, por favor inicie novamente e insira uma operação disponível\n",
            "\n",
            "Para continuar, vamos elevar um numero na potencia de sua escolha.\n",
            "\n",
            "Aperte 1 para continuar1\n",
            "Digite o número: 5\n",
            "Digite sua potência: 10\n",
            "O resultado de  5  em sua  10 ª potência é:  9765625\n"
          ]
        }
      ],
      "source": [
        "print(\"Para iniciar a calculadora, escolha o número da operação que deseja realizar:\")\n",
        "print('1 para Adição\\n2 para Subtração\\n3 para Multiplicação e \\n4 para Divisão')\n",
        "\n",
        "operacao = int(input(\"Qual operação deseja realizar? \"))\n",
        "\n",
        "operacao_valida = {1, 2, 3, 4}\n",
        "\n",
        "if operacao in operacao_valida:\n",
        "  num1 = int(input(\"Qual é o primeiro número? \"))\n",
        "  num2 = int(input(\"Qual é o segundo número? \"))\n",
        "\n",
        "if operacao == 1:\n",
        "  resultado = num1 + num2\n",
        "  print(\"A soma é: \", resultado)\n",
        "\n",
        "elif operacao == 2:\n",
        "  resultado = num1 - num2\n",
        "  print(\"A diferença é: \", resultado)\n",
        "\n",
        "elif operacao == 3:\n",
        "  resultado = num1 * num2\n",
        "  print(\"O produto é: \", resultado)\n",
        "\n",
        "elif operacao == 4:\n",
        "  resultado = num1 / num2\n",
        "  resto = num1 % num2\n",
        "\n",
        "  if resto == 0:\n",
        "    print(\"O resultado é: \", (int(resultado)))\n",
        "  else:\n",
        "    print(\"O resultado é: \", resultado)\n",
        "\n",
        "else:\n",
        "  print(\"\\nEste número não é válido, por favor inicie novamente e insira uma operação disponível\")\n",
        "\n",
        "num_potenciado = 0\n",
        "potencia = 0\n",
        "\n",
        "print(\"\\nPara continuar, vamos elevar um numero na potencia de sua escolha.\")\n",
        "\n",
        "operacao2 = int(input(\"\\nDigite 1 para continuar \"))\n",
        "\n",
        "lista_repeticao = [1]\n",
        "\n",
        "if operacao2 in lista_repeticao:\n",
        "  num_potenciado = int(input(\"Digite o número: \"))\n",
        "  potencia = int(input(\"Digite sua potência: \"))\n",
        "\n",
        "  base = num_potenciado\n",
        "\n",
        "  if operacao2 == 1:\n",
        "    contador = potencia - 1\n",
        "    while contador > 0:\n",
        "      num_potenciado = num_potenciado * base\n",
        "      contador -= 1\n",
        "\n",
        "    else:\n",
        "      print(\"O resultado de \", base, \" em sua \", potencia, \"ª potência é: \", num_potenciado)\n",
        "\n",
        "else:\n",
        "  print(\"Operação não disponível.\")\n"
      ]
    }
  ]
}